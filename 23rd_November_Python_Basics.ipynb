{
 "cells": [
  {
   "cell_type": "code",
   "execution_count": 1,
   "id": "754d2a23-09e5-4c5a-ba83-8938648be677",
   "metadata": {
    "tags": []
   },
   "outputs": [
    {
     "name": "stdout",
     "output_type": "stream",
     "text": [
      "x =  777\n",
      "y =  7\n"
     ]
    }
   ],
   "source": [
    "#Topic: Python Basic Variable\n",
    "\n",
    "\"\"\"1. Declare two variables, `x` and `y`, and assign them integer values. Swap the\n",
    "values of these variables without using any temporary variable.\"\"\"\n",
    "\n",
    "#Solution:\n",
    "#Declaring and assigning integer values to variables x and y\n",
    "x = 7\n",
    "y = 777\n",
    "\n",
    "#Swaping values of x and y\n",
    "x,y = y,x\n",
    "\n",
    "#Printing the swapped values of x and y\n",
    "print(\"x =\", x)\n",
    "print(\"y =\", y)\n"
   ]
  },
  {
   "cell_type": "code",
   "execution_count": 2,
   "id": "f6d850b0-b810-43f1-9a51-d38b874f8497",
   "metadata": {},
   "outputs": [
    {
     "name": "stdin",
     "output_type": "stream",
     "text": [
      "Enter length of the rectangle:  5\n",
      "Enter width of the rectangle:  5\n"
     ]
    },
    {
     "name": "stdout",
     "output_type": "stream",
     "text": [
      "Area of the rectangle is  25.0\n"
     ]
    }
   ],
   "source": [
    "#Topic: Python Basic Variable\n",
    "\n",
    "\"\"\"2. Create a program that calculates the area of a rectangle. Take the length and\n",
    "width as inputs from the user and store them in variables. Calculate and\n",
    "display the area.\"\"\"\n",
    "\n",
    "#Solution:\n",
    "#Taking inputs from the user for length and width to calculates the area of a rectangle\n",
    "length = float(input(\"Enter length of the rectangle:\")) #Converting the string into flating number using float()\n",
    "width = float(input(\"Enter width of the rectangle:\"))\n",
    "\n",
    "#calculating the area of a rectangle\n",
    "area = length * width\n",
    "\n",
    "#Printing the area of a rectangle\n",
    "print(\"Area of the rectangle is\", area)\n",
    "\n"
   ]
  },
  {
   "cell_type": "code",
   "execution_count": 3,
   "id": "8df6ca23-fe02-44a7-8c9a-228d7def673d",
   "metadata": {},
   "outputs": [
    {
     "name": "stdin",
     "output_type": "stream",
     "text": [
      "Enter the Temperature in Celsius:  500\n"
     ]
    },
    {
     "name": "stdout",
     "output_type": "stream",
     "text": [
      "Temperature in Fahrenheit: 932.0\n"
     ]
    }
   ],
   "source": [
    "#Topic: Python Basic Variable\n",
    "\n",
    "\"\"\"3. Write a Python program that converts temperatures from Celsius to\n",
    "Fahrenheit. Take the temperature in Celsius as input, store it in a variable,\n",
    "convert it to Fahrenheit, and display the result.\"\"\"\n",
    "\n",
    "#SOlution:\n",
    "#Taking the user input of temperature in Celsius and storing in a variable\n",
    "ctemp = float(input(\"Enter the Temperature in Celsius:\"))\n",
    "\n",
    "#Converting Celsius into Fahrenheit\n",
    "ftemp = (ctemp * 9/5) + 32\n",
    "\n",
    "#Printing the temperature in Fahrenheit\n",
    "print(\"Temperature in Fahrenheit:\", ftemp)"
   ]
  },
  {
   "cell_type": "code",
   "execution_count": 20,
   "id": "48f4a2ca-2159-42b8-863a-3350c96c1792",
   "metadata": {},
   "outputs": [
    {
     "name": "stdin",
     "output_type": "stream",
     "text": [
      "Enter a String: Sumon\n"
     ]
    },
    {
     "name": "stdout",
     "output_type": "stream",
     "text": [
      "The Length of the String is: 5\n"
     ]
    }
   ],
   "source": [
    "#Topic String Based Questions\n",
    "\n",
    "\"\"\"1. Write a Python program that takes a string as input and prints the length of\n",
    "the string.\"\"\"\n",
    "\n",
    "#Solution:\n",
    "#Taking a string as user input\n",
    "userstring = input(\"Enter a String:\")\n",
    "\n",
    "#Printing the length of the string\n",
    "print(\"The Length of the String is:\", len(userstring))\n"
   ]
  },
  {
   "cell_type": "code",
   "execution_count": 5,
   "id": "129da578-5603-4f71-988a-7d563884303d",
   "metadata": {},
   "outputs": [
    {
     "name": "stdin",
     "output_type": "stream",
     "text": [
      "Enter a Sentence: SumOn\n"
     ]
    },
    {
     "name": "stdout",
     "output_type": "stream",
     "text": [
      "Number of vowels present in the sentence: 2\n"
     ]
    }
   ],
   "source": [
    "#Topic String Based Questions\n",
    "\n",
    "\"\"\"2. Create a program that takes a sentence from the user and counts the number\n",
    "of vowels (a, e, i, o, u) in the string.\"\"\"\n",
    "\n",
    "#Solution:\n",
    "#Taking a sentence as user input\n",
    "usersentence = input(\"Enter a Sentence:\")\n",
    "\n",
    "#Initializing a variable to count vowels\n",
    "vcount = 0\n",
    "\n",
    "#Defining the set of vowels\n",
    "vowels = set('aeiouAEIOU')\n",
    "\n",
    "#Loop through each character in the sentence\n",
    "for char in usersentence:\n",
    "    if char in vowels:\n",
    "        vcount += 1\n",
    "\n",
    "#Printing the number of vowels present in the sentence\n",
    "print(\"Number of vowels present in the sentence:\", vcount)\n"
   ]
  },
  {
   "cell_type": "code",
   "execution_count": 19,
   "id": "f2d2802c-78b3-434c-9c23-c82599c42726",
   "metadata": {},
   "outputs": [
    {
     "name": "stdout",
     "output_type": "stream",
     "text": [
      "Reversed string: nomus\n"
     ]
    }
   ],
   "source": [
    "#Topic String Based Questions\n",
    "\n",
    "\"\"\"3. Given a string, reverse the order of characters using string slicing and print\n",
    "the reversed string.\"\"\"\n",
    "\n",
    "#Solution:\n",
    "#Declaring and assigning a string\n",
    "mystring = \"sumon\"\n",
    "\n",
    "#Reversing the string using slicing\n",
    "reversed_string = mystring[::-1]\n",
    "\n",
    "#Printing the reversed string\n",
    "print(\"Reversed string:\", reversed_string)\n"
   ]
  },
  {
   "cell_type": "code",
   "execution_count": 14,
   "id": "cba5c646-5bcb-4efb-a44e-2667d4894b63",
   "metadata": {},
   "outputs": [
    {
     "name": "stdin",
     "output_type": "stream",
     "text": [
      "Enter a String:  Nitin\n"
     ]
    },
    {
     "name": "stdout",
     "output_type": "stream",
     "text": [
      "The string is a Palindrome.\n"
     ]
    }
   ],
   "source": [
    "#Topic String Based Questions\n",
    "\n",
    "\"\"\"4. Write a program that takes a string as input and checks if it is a palindrome\n",
    "(reads the same forwards and backwards).\"\"\"\n",
    "\n",
    "#Solution:\n",
    "#Taking a string as input from user\n",
    "usstr = input(\"Enter a String: \")\n",
    "\n",
    "constr = usstr.lower() #Converting all characters in string to lower to avoid casesensitive\n",
    "\n",
    "#Checking the string is a palindrome or not, if the string matched with the reversed string then variable will contain True\n",
    "palindromecheck = constr == constr[::-1]\n",
    "\n",
    "#Printing the result\n",
    "if palindromecheck:\n",
    "    print(\"The string is a Palindrome.\")\n",
    "else:\n",
    "    print(\"The string is Not a palindrome.\")\n"
   ]
  },
  {
   "cell_type": "code",
   "execution_count": 17,
   "id": "848aa55f-b0c0-4f0d-afe5-48dfc2a6f0f9",
   "metadata": {
    "tags": []
   },
   "outputs": [
    {
     "name": "stdin",
     "output_type": "stream",
     "text": [
      "Enter a String: Sumon Nandlal Naskar\n"
     ]
    },
    {
     "name": "stdout",
     "output_type": "stream",
     "text": [
      "String without spaces: SumonNandlalNaskar\n"
     ]
    }
   ],
   "source": [
    "#Topic String Based Questions\n",
    "\n",
    "\"\"\"5. Create a program that takes a string as input and removes all the spaces from\n",
    "it. Print the modified string without spaces.\"\"\"\n",
    "\n",
    "#Solution:\n",
    "#Taking a string as input from user\n",
    "userst = input(\"Enter a String:\")\n",
    "\n",
    "#Removing spaces from the string\n",
    "strwsp = userst.replace(\" \", \"\")\n",
    "\n",
    "#Printing the final string without spaces\n",
    "print(\"String without spaces:\", strwsp)\n"
   ]
  }
 ],
 "metadata": {
  "kernelspec": {
   "display_name": "Python 3 (ipykernel)",
   "language": "python",
   "name": "python3"
  },
  "language_info": {
   "codemirror_mode": {
    "name": "ipython",
    "version": 3
   },
   "file_extension": ".py",
   "mimetype": "text/x-python",
   "name": "python",
   "nbconvert_exporter": "python",
   "pygments_lexer": "ipython3",
   "version": "3.10.8"
  }
 },
 "nbformat": 4,
 "nbformat_minor": 5
}
